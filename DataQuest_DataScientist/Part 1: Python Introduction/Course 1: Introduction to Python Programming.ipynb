{
 "cells": [
  {
   "cell_type": "raw",
   "id": "b6beed52",
   "metadata": {
    "vscode": {
     "languageId": "raw"
    }
   },
   "source": [
    "---\n",
    "title: \"Course 1: Introduction to Python\"\n",
    "author: \"Benjamin Rice\"\n",
    "format:\n",
    "  html:\n",
    "    code-fold: true\n",
    "jupyter: python3\n",
    "---"
   ]
  }
 ],
 "metadata": {
  "language_info": {
   "name": "python"
  }
 },
 "nbformat": 4,
 "nbformat_minor": 5
}
